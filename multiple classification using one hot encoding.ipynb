{
 "cells": [
  {
   "cell_type": "code",
   "execution_count": 2,
   "metadata": {},
   "outputs": [],
   "source": [
    "import pandas as pd\n",
    "import numpy as np\n",
    "import time\n",
    "from sklearn.model_selection import train_test_split\n",
    "from sklearn.linear_model import LogisticRegression\n",
    "from sklearn.metrics import accuracy_score\n",
    "from sklearn.ensemble import RandomForestClassifier\n",
    "from sklearn.ensemble import GradientBoostingClassifier\n",
    "from sklearn import svm\n",
    "from sklearn import tree\n",
    "from sklearn.neural_network import MLPClassifier\n",
    "from sklearn.metrics import mean_squared_error, r2_score"
   ]
  },
  {
   "cell_type": "code",
   "execution_count": 3,
   "metadata": {},
   "outputs": [],
   "source": [
    "ing=pd.read_csv('/Users/osman/Desktop/22-23 ualbany/ML/project/after mid/ingredients_v4.csv')  "
   ]
  },
  {
   "cell_type": "code",
   "execution_count": 4,
   "metadata": {},
   "outputs": [
    {
     "data": {
      "text/html": [
       "<div>\n",
       "<style scoped>\n",
       "    .dataframe tbody tr th:only-of-type {\n",
       "        vertical-align: middle;\n",
       "    }\n",
       "\n",
       "    .dataframe tbody tr th {\n",
       "        vertical-align: top;\n",
       "    }\n",
       "\n",
       "    .dataframe thead th {\n",
       "        text-align: right;\n",
       "    }\n",
       "</style>\n",
       "<table border=\"1\" class=\"dataframe\">\n",
       "  <thead>\n",
       "    <tr style=\"text-align: right;\">\n",
       "      <th></th>\n",
       "      <th>recipe</th>\n",
       "      <th>ingredient</th>\n",
       "    </tr>\n",
       "  </thead>\n",
       "  <tbody>\n",
       "    <tr>\n",
       "      <th>0</th>\n",
       "      <td>1-2-3-cherry-poke-cake</td>\n",
       "      <td>[cake, water, whipped top, gelatin, chocol]</td>\n",
       "    </tr>\n",
       "    <tr>\n",
       "      <th>1</th>\n",
       "      <td>1-2-3-complete-breakfast-smoothie</td>\n",
       "      <td>[oat, water, honey, blueberri, protein powd, y...</td>\n",
       "    </tr>\n",
       "    <tr>\n",
       "      <th>2</th>\n",
       "      <td>1-2-3-jambalaya</td>\n",
       "      <td>[worcestershire sauc, olive oil, parsley, toma...</td>\n",
       "    </tr>\n",
       "    <tr>\n",
       "      <th>3</th>\n",
       "      <td>1-dish-chicken-parmesan</td>\n",
       "      <td>[chees, olive oil, spice, chicken, all purpose...</td>\n",
       "    </tr>\n",
       "    <tr>\n",
       "      <th>4</th>\n",
       "      <td>1-dish-pepperoni-cheese-pizza-bake</td>\n",
       "      <td>[all purpose flour, cooking spray, mozzarella ...</td>\n",
       "    </tr>\n",
       "    <tr>\n",
       "      <th>...</th>\n",
       "      <td>...</td>\n",
       "      <td>...</td>\n",
       "    </tr>\n",
       "    <tr>\n",
       "      <th>66277</th>\n",
       "      <td>zweiback-cheesecake</td>\n",
       "      <td>[egg, white sugar, margarin, cinnamon, cottage...</td>\n",
       "    </tr>\n",
       "    <tr>\n",
       "      <th>66278</th>\n",
       "      <td>zwetschekuchen-german-plum-tart</td>\n",
       "      <td>[cinnamon, lemon peel, butter, egg, white suga...</td>\n",
       "    </tr>\n",
       "    <tr>\n",
       "      <th>66279</th>\n",
       "      <td>zwetschgendatschi-german-plum-sheet-cake</td>\n",
       "      <td>[white sugar, vanilla sugar, all purpose flour...</td>\n",
       "    </tr>\n",
       "    <tr>\n",
       "      <th>66280</th>\n",
       "      <td>zwieback</td>\n",
       "      <td>[dry yeast, honey, all purpose flour, butter, ...</td>\n",
       "    </tr>\n",
       "    <tr>\n",
       "      <th>66281</th>\n",
       "      <td>zydeco-stomp-cajun-shrimp-alfredo</td>\n",
       "      <td>[cajun season, black pepp, salt, butter, cream...</td>\n",
       "    </tr>\n",
       "  </tbody>\n",
       "</table>\n",
       "<p>66282 rows × 2 columns</p>\n",
       "</div>"
      ],
      "text/plain": [
       "                                         recipe  \\\n",
       "0                        1-2-3-cherry-poke-cake   \n",
       "1             1-2-3-complete-breakfast-smoothie   \n",
       "2                               1-2-3-jambalaya   \n",
       "3                       1-dish-chicken-parmesan   \n",
       "4            1-dish-pepperoni-cheese-pizza-bake   \n",
       "...                                         ...   \n",
       "66277                       zweiback-cheesecake   \n",
       "66278           zwetschekuchen-german-plum-tart   \n",
       "66279  zwetschgendatschi-german-plum-sheet-cake   \n",
       "66280                                  zwieback   \n",
       "66281         zydeco-stomp-cajun-shrimp-alfredo   \n",
       "\n",
       "                                              ingredient  \n",
       "0            [cake, water, whipped top, gelatin, chocol]  \n",
       "1      [oat, water, honey, blueberri, protein powd, y...  \n",
       "2      [worcestershire sauc, olive oil, parsley, toma...  \n",
       "3      [chees, olive oil, spice, chicken, all purpose...  \n",
       "4      [all purpose flour, cooking spray, mozzarella ...  \n",
       "...                                                  ...  \n",
       "66277  [egg, white sugar, margarin, cinnamon, cottage...  \n",
       "66278  [cinnamon, lemon peel, butter, egg, white suga...  \n",
       "66279  [white sugar, vanilla sugar, all purpose flour...  \n",
       "66280  [dry yeast, honey, all purpose flour, butter, ...  \n",
       "66281  [cajun season, black pepp, salt, butter, cream...  \n",
       "\n",
       "[66282 rows x 2 columns]"
      ]
     },
     "execution_count": 4,
     "metadata": {},
     "output_type": "execute_result"
    }
   ],
   "source": [
    "# aggreagate ingredients and put them into list for each recipe\n",
    "# new df --> recipeName | ingredientList\n",
    "df=pd.read_csv('/Users/osman/Desktop/22-23 ualbany/ML/project/after mid/recipes_v4.csv')  \n",
    "df=df.drop(columns=['Unnamed: 0', 'Unnamed: 1'])\n",
    "df2=df.groupby('Recipe')['Ingredient'].agg(list).reset_index(name='ingredient')\n",
    "df2.columns = ['recipe', 'ingredient']\n",
    "df2"
   ]
  },
  {
   "cell_type": "code",
   "execution_count": 5,
   "metadata": {},
   "outputs": [
    {
     "data": {
      "text/html": [
       "<div>\n",
       "<style scoped>\n",
       "    .dataframe tbody tr th:only-of-type {\n",
       "        vertical-align: middle;\n",
       "    }\n",
       "\n",
       "    .dataframe tbody tr th {\n",
       "        vertical-align: top;\n",
       "    }\n",
       "\n",
       "    .dataframe thead th {\n",
       "        text-align: right;\n",
       "    }\n",
       "</style>\n",
       "<table border=\"1\" class=\"dataframe\">\n",
       "  <thead>\n",
       "    <tr style=\"text-align: right;\">\n",
       "      <th></th>\n",
       "      <th>recipe</th>\n",
       "      <th>ingredient</th>\n",
       "      <th>USDAscore</th>\n",
       "      <th>FSAscore</th>\n",
       "    </tr>\n",
       "  </thead>\n",
       "  <tbody>\n",
       "    <tr>\n",
       "      <th>0</th>\n",
       "      <td>1-2-3-cherry-poke-cake</td>\n",
       "      <td>[cake, water, whipped top, gelatin, chocol]</td>\n",
       "      <td>2</td>\n",
       "      <td>4</td>\n",
       "    </tr>\n",
       "    <tr>\n",
       "      <th>1</th>\n",
       "      <td>1-2-3-complete-breakfast-smoothie</td>\n",
       "      <td>[oat, water, honey, blueberri, protein powd, y...</td>\n",
       "      <td>3</td>\n",
       "      <td>5</td>\n",
       "    </tr>\n",
       "    <tr>\n",
       "      <th>2</th>\n",
       "      <td>1-2-3-jambalaya</td>\n",
       "      <td>[worcestershire sauc, olive oil, parsley, toma...</td>\n",
       "      <td>4</td>\n",
       "      <td>3</td>\n",
       "    </tr>\n",
       "    <tr>\n",
       "      <th>3</th>\n",
       "      <td>1-dish-chicken-parmesan</td>\n",
       "      <td>[chees, olive oil, spice, chicken, all purpose...</td>\n",
       "      <td>4</td>\n",
       "      <td>3</td>\n",
       "    </tr>\n",
       "    <tr>\n",
       "      <th>4</th>\n",
       "      <td>1-dish-pepperoni-cheese-pizza-bake</td>\n",
       "      <td>[all purpose flour, cooking spray, mozzarella ...</td>\n",
       "      <td>4</td>\n",
       "      <td>4</td>\n",
       "    </tr>\n",
       "    <tr>\n",
       "      <th>...</th>\n",
       "      <td>...</td>\n",
       "      <td>...</td>\n",
       "      <td>...</td>\n",
       "      <td>...</td>\n",
       "    </tr>\n",
       "    <tr>\n",
       "      <th>66626</th>\n",
       "      <td>zweiback-cheesecake</td>\n",
       "      <td>[egg, white sugar, margarin, cinnamon, cottage...</td>\n",
       "      <td>2</td>\n",
       "      <td>2</td>\n",
       "    </tr>\n",
       "    <tr>\n",
       "      <th>66627</th>\n",
       "      <td>zwetschekuchen-german-plum-tart</td>\n",
       "      <td>[cinnamon, lemon peel, butter, egg, white suga...</td>\n",
       "      <td>1</td>\n",
       "      <td>2</td>\n",
       "    </tr>\n",
       "    <tr>\n",
       "      <th>66628</th>\n",
       "      <td>zwetschgendatschi-german-plum-sheet-cake</td>\n",
       "      <td>[white sugar, vanilla sugar, all purpose flour...</td>\n",
       "      <td>1</td>\n",
       "      <td>3</td>\n",
       "    </tr>\n",
       "    <tr>\n",
       "      <th>66629</th>\n",
       "      <td>zwieback</td>\n",
       "      <td>[dry yeast, honey, all purpose flour, butter, ...</td>\n",
       "      <td>5</td>\n",
       "      <td>8</td>\n",
       "    </tr>\n",
       "    <tr>\n",
       "      <th>66630</th>\n",
       "      <td>zydeco-stomp-cajun-shrimp-alfredo</td>\n",
       "      <td>[cajun season, black pepp, salt, butter, cream...</td>\n",
       "      <td>3</td>\n",
       "      <td>2</td>\n",
       "    </tr>\n",
       "  </tbody>\n",
       "</table>\n",
       "<p>66107 rows × 4 columns</p>\n",
       "</div>"
      ],
      "text/plain": [
       "                                         recipe  \\\n",
       "0                        1-2-3-cherry-poke-cake   \n",
       "1             1-2-3-complete-breakfast-smoothie   \n",
       "2                               1-2-3-jambalaya   \n",
       "3                       1-dish-chicken-parmesan   \n",
       "4            1-dish-pepperoni-cheese-pizza-bake   \n",
       "...                                         ...   \n",
       "66626                       zweiback-cheesecake   \n",
       "66627           zwetschekuchen-german-plum-tart   \n",
       "66628  zwetschgendatschi-german-plum-sheet-cake   \n",
       "66629                                  zwieback   \n",
       "66630         zydeco-stomp-cajun-shrimp-alfredo   \n",
       "\n",
       "                                              ingredient  USDAscore  FSAscore  \n",
       "0            [cake, water, whipped top, gelatin, chocol]          2         4  \n",
       "1      [oat, water, honey, blueberri, protein powd, y...          3         5  \n",
       "2      [worcestershire sauc, olive oil, parsley, toma...          4         3  \n",
       "3      [chees, olive oil, spice, chicken, all purpose...          4         3  \n",
       "4      [all purpose flour, cooking spray, mozzarella ...          4         4  \n",
       "...                                                  ...        ...       ...  \n",
       "66626  [egg, white sugar, margarin, cinnamon, cottage...          2         2  \n",
       "66627  [cinnamon, lemon peel, butter, egg, white suga...          1         2  \n",
       "66628  [white sugar, vanilla sugar, all purpose flour...          1         3  \n",
       "66629  [dry yeast, honey, all purpose flour, butter, ...          5         8  \n",
       "66630  [cajun season, black pepp, salt, butter, cream...          3         2  \n",
       "\n",
       "[66107 rows x 4 columns]"
      ]
     },
     "execution_count": 5,
     "metadata": {},
     "output_type": "execute_result"
    }
   ],
   "source": [
    "# get the recipe health scores from another csv file then merge with our df\n",
    "# new df --> recipeName | ingredientList | USDAScore | FSAScore\n",
    "df3=pd.read_csv('/Users/osman/Desktop/22-23 ualbany/ML/project/after mid/recipes-scores.csv')  \n",
    "df4=df2.merge(df3,how=\"left\",on='recipe')\n",
    "df4.drop_duplicates(subset=\"recipe\",\n",
    "                     keep=False, inplace=True)\n",
    "df4"
   ]
  },
  {
   "cell_type": "code",
   "execution_count": 6,
   "metadata": {},
   "outputs": [],
   "source": [
    "#creating a matrix recipes x ingredients (66107 recipes, 962 ingredietnts)\n",
    "#It means 1 x 963 vector for each recipe\n",
    "mat=np.zeros((66107,963))\n",
    "\n",
    "ingp=ing['Ingredient'].to_numpy()\n",
    "data=df2.to_numpy()\n",
    "\n",
    "# searching ingredients in recipes. \n",
    "#In our matrix, if a recipe contains a word, corresponding index of the ingredient will be 1 for that recipe.\n",
    "for i in range(962):\n",
    "    for w in range(66106):\n",
    "        if ingp[i] in data[w][1]:\n",
    "            mat[w][i]=1\n"
   ]
  },
  {
   "cell_type": "code",
   "execution_count": 7,
   "metadata": {},
   "outputs": [
    {
     "data": {
      "text/plain": [
       "array([[0., 0., 0., ..., 0., 0., 0.],\n",
       "       [0., 0., 0., ..., 0., 0., 0.],\n",
       "       [0., 0., 0., ..., 0., 0., 0.],\n",
       "       ...,\n",
       "       [1., 0., 1., ..., 0., 0., 0.],\n",
       "       [0., 1., 0., ..., 0., 0., 0.],\n",
       "       [0., 0., 0., ..., 0., 0., 0.]])"
      ]
     },
     "execution_count": 7,
     "metadata": {},
     "output_type": "execute_result"
    }
   ],
   "source": [
    "mat"
   ]
  },
  {
   "cell_type": "code",
   "execution_count": 8,
   "metadata": {},
   "outputs": [],
   "source": [
    "#Converting our classes into numpy arrays\n",
    "clss1=df4['FSAscore'].to_numpy()\n",
    "clss2=df4['USDAscore'].to_numpy()\n"
   ]
  },
  {
   "cell_type": "code",
   "execution_count": 11,
   "metadata": {},
   "outputs": [
    {
     "data": {
      "text/plain": [
       "66107"
      ]
     },
     "execution_count": 11,
     "metadata": {},
     "output_type": "execute_result"
    }
   ],
   "source": [
    "clss1.size"
   ]
  },
  {
   "cell_type": "code",
   "execution_count": 12,
   "metadata": {},
   "outputs": [],
   "source": [
    "\n",
    "def dist(data):\n",
    "    zeros=0\n",
    "    ones=0\n",
    "    twos=0\n",
    "    threes=0\n",
    "    fours=0\n",
    "    fives=0\n",
    "    sixes=0\n",
    "    sevens=0\n",
    "    eights=0\n",
    "    nines=0\n",
    "\n",
    "    for i in range(66107):\n",
    "        if data[i]==0:\n",
    "            zeros +=1\n",
    "        elif data[i]==1:\n",
    "            ones +=1\n",
    "        elif data[i]==2:\n",
    "            twos +=1\n",
    "        elif data[i]==3:\n",
    "            threes +=1\n",
    "        elif data[i]==4:\n",
    "            fours +=1\n",
    "        elif data[i]==5:\n",
    "            fives +=1\n",
    "        elif data[i]==6:\n",
    "            sixes +=1\n",
    "        elif data[i]==7:\n",
    "            sevens +=1\n",
    "        elif data[i]==8:\n",
    "            eights +=1\n",
    "        elif data[i]==9:\n",
    "            nines +=1\n",
    "\n",
    "    print(\"Distribution of Scores\",\"\\n\",\"number of zero:\",zeros,\"\\n\",\"number of one:\",ones,\"\\n\",\"number of two:\",twos,\"\\n\",\"number of three:\",threes,\"\\n\",\"number of four:\",fours,\"\\n\",\"number of five:\",fives,\"\\n\",\"number of six:\",sixes,\"\\n\",\"number of seven:\",sevens,\"\\n\",\"number of eight:\",eights,\"\\n\",\"number of nine:\",nines)\n",
    "    print(zeros+ones+twos+threes+fours+fives+sixes+sevens+eights+nines)\n"
   ]
  },
  {
   "cell_type": "code",
   "execution_count": 13,
   "metadata": {},
   "outputs": [
    {
     "data": {
      "image/png": "[encoded data removed]",
      "text/plain": [
       "<Figure size 720x432 with 1 Axes>"
      ]
     },
     "metadata": {},
     "output_type": "display_data"
    }
   ],
   "source": [
    "#distribution of scores (FSA)\n",
    "import matplotlib.pyplot as plt\n",
    "import seaborn as sns\n",
    "\n",
    "sns.set(style='whitegrid', context='poster', palette='Set2')\n",
    "\n",
    "plt.rc('font', family='serif',serif='Helvetica')\n",
    "\n",
    "#font size  \n",
    "plt.rcParams.update({'font.size': 1}) \n",
    "\n",
    "\n",
    "\n",
    "plt.figure(figsize=(10, 6))\n",
    "sns.countplot(x='FSAscore', data=df4)\n",
    "plt.title('Distribution of 66107 Recipes')\n",
    "plt.xlabel('FSA Scores')\n",
    "plt.ylabel('Number of Recipes')\n",
    "plt.show()\n"
   ]
  },
  {
   "cell_type": "code",
   "execution_count": 14,
   "metadata": {},
   "outputs": [
    {
     "data": {
      "image/png": "[encoded data removed]",
      "text/plain": [
       "<Figure size 720x432 with 1 Axes>"
      ]
     },
     "metadata": {},
     "output_type": "display_data"
    }
   ],
   "source": [
    "#distribution of scores (USDA)\n",
    "import matplotlib.pyplot as plt\n",
    "import seaborn as sns\n",
    "\n",
    "sns.set(style='whitegrid', context='poster', palette='Set2')\n",
    "\n",
    "plt.rc('font', family='serif',serif='Helvetica')\n",
    "\n",
    "#font size  \n",
    "plt.rcParams.update({'font.size': 1}) \n",
    "\n",
    "\n",
    "\n",
    "plt.figure(figsize=(10, 6))\n",
    "sns.countplot(x='USDAscore', data=df4)\n",
    "plt.title('Distribution of 66107 Recipes')\n",
    "plt.xlabel('USDA Scores')\n",
    "plt.ylabel('Number of Recipes')\n",
    "plt.show()\n"
   ]
  },
  {
   "cell_type": "code",
   "execution_count": 15,
   "metadata": {},
   "outputs": [
    {
     "name": "stdout",
     "output_type": "stream",
     "text": [
      "Distribution of Scores \n",
      " number of zero: 292 \n",
      " number of one: 4169 \n",
      " number of two: 9625 \n",
      " number of three: 14146 \n",
      " number of four: 12265 \n",
      " number of five: 12441 \n",
      " number of six: 8099 \n",
      " number of seven: 3674 \n",
      " number of eight: 1396 \n",
      " number of nine: 0\n",
      "66107\n",
      "Distribution of Scores \n",
      " number of zero: 1 \n",
      " number of one: 4543 \n",
      " number of two: 8501 \n",
      " number of three: 14431 \n",
      " number of four: 23019 \n",
      " number of five: 13274 \n",
      " number of six: 2338 \n",
      " number of seven: 0 \n",
      " number of eight: 0 \n",
      " number of nine: 0\n",
      "66107\n",
      "None USDA \n",
      " None\n"
     ]
    }
   ],
   "source": [
    "print(dist(clss1),\"USDA\",'\\n',dist(clss2))"
   ]
  },
  {
   "cell_type": "code",
   "execution_count": 16,
   "metadata": {},
   "outputs": [
    {
     "name": "stdout",
     "output_type": "stream",
     "text": [
      "(66107, 963) (66107,) (66107,)\n"
     ]
    }
   ],
   "source": [
    "print(mat.shape,clss1.shape,clss2.shape)"
   ]
  },
  {
   "cell_type": "code",
   "execution_count": 86,
   "metadata": {},
   "outputs": [],
   "source": [
    "#I'll try to convert our data to CSR dense matrix and feed it to ML methods\n",
    "from scipy.sparse import csr_matrix\n",
    "matcsr=csr_matrix(mat)"
   ]
  },
  {
   "cell_type": "code",
   "execution_count": 93,
   "metadata": {},
   "outputs": [],
   "source": [
    "#Converted CSR matrix will be fed to ML methods for clss1 which is FSA Binary Labeling\n",
    "#same methods are also applied for clss1 which is FSA Binary Labeling\n",
    "xtraincsr,xtestcsr,ytraincsr,ytestcsr=train_test_split(matcsr,clss2,test_size=0.3, random_state=21)\n",
    "\n",
    "def modelfitcsr(mod):\n",
    "    model=mod\n",
    "    model.fit(xtraincsr,ytraincsr)\n",
    "    ypredcsr=model.predict(xtestcsr)\n",
    "    print(accuracy_score(ytestcsr,ypredcsr))\n"
   ]
  },
  {
   "cell_type": "code",
   "execution_count": 94,
   "metadata": {},
   "outputs": [
    {
     "name": "stdout",
     "output_type": "stream",
     "text": [
      "0.33025765138909896\n",
      "0.31180355972369284\n",
      "0.3447789038471235\n",
      "0.24020571774315536\n",
      "0.3355518580144204\n",
      "Logistic Reg ACC:  None \n",
      " Random Forest ACC None \n",
      " Gradient Boosting ACC: None \n",
      " Decision Tree ACC: None \n",
      " Neural Network ACC: None\n"
     ]
    }
   ],
   "source": [
    "print(\"Logistic Reg ACC: \", modelfitcsr(LogisticRegression(max_iter=1000)), '\\n',\n",
    " \"Random Forest ACC\", modelfitcsr(RandomForestClassifier(n_estimators=100)), '\\n',\n",
    "\"Gradient Boosting ACC:\", modelfitcsr(GradientBoostingClassifier(n_estimators=100)), '\\n',\n",
    "\"Decision Tree ACC:\", modelfitcsr(tree.DecisionTreeClassifier()), '\\n',\n",
    "\"Neural Network ACC:\", modelfitcsr(MLPClassifier(alpha=1e-5,hidden_layer_sizes=(1, 16),max_iter=1000)))\n",
    "     "
   ]
  }
 ],
 "metadata": {
  "kernelspec": {
   "display_name": "Python 3",
   "language": "python",
   "name": "python3"
  },
  "language_info": {
   "codemirror_mode": {
    "name": "ipython",
    "version": 3
   },
   "file_extension": ".py",
   "mimetype": "text/x-python",
   "name": "python",
   "nbconvert_exporter": "python",
   "pygments_lexer": "ipython3",
   "version": "3.8.3"
  },
  "orig_nbformat": 4
 },
 "nbformat": 4,
 "nbformat_minor": 2
}
