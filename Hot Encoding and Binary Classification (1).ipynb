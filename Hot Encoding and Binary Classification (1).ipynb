{
 "cells": [
  {
   "cell_type": "markdown",
   "metadata": {},
   "source": [
    "#### Hot Encoding and ML Methods Applying\n",
    "##### After adding USDA and FSA score and binary labeling, hot encoding will be applied to recipes.\n",
    "##### Then, different ML methods will be applied on the CSR Matrix."
   ]
  },
  {
   "cell_type": "code",
   "execution_count": 1,
   "metadata": {},
   "outputs": [],
   "source": [
    "import pandas as pd\n",
    "import numpy as np\n",
    "import time\n",
    "from sklearn.model_selection import train_test_split\n",
    "from sklearn.linear_model import LogisticRegression\n",
    "from sklearn.metrics import accuracy_score\n",
    "from sklearn.ensemble import RandomForestClassifier\n",
    "from sklearn.ensemble import GradientBoostingClassifier\n",
    "from sklearn import svm\n",
    "from sklearn import tree\n",
    "from sklearn.neural_network import MLPClassifier"
   ]
  },
  {
   "cell_type": "code",
   "execution_count": 2,
   "metadata": {},
   "outputs": [],
   "source": [
    "ing=pd.read_csv('ingredients_v4.csv')  "
   ]
  },
  {
   "cell_type": "code",
   "execution_count": 3,
   "metadata": {},
   "outputs": [
    {
     "data": {
      "text/html": [
       "<div>\n",
       "<style scoped>\n",
       "    .dataframe tbody tr th:only-of-type {\n",
       "        vertical-align: middle;\n",
       "    }\n",
       "\n",
       "    .dataframe tbody tr th {\n",
       "        vertical-align: top;\n",
       "    }\n",
       "\n",
       "    .dataframe thead th {\n",
       "        text-align: right;\n",
       "    }\n",
       "</style>\n",
       "<table border=\"1\" class=\"dataframe\">\n",
       "  <thead>\n",
       "    <tr style=\"text-align: right;\">\n",
       "      <th></th>\n",
       "      <th>recipe</th>\n",
       "      <th>ingredient</th>\n",
       "    </tr>\n",
       "  </thead>\n",
       "  <tbody>\n",
       "    <tr>\n",
       "      <th>0</th>\n",
       "      <td>1-2-3-cherry-poke-cake</td>\n",
       "      <td>[cake, water, whipped top, gelatin, chocol]</td>\n",
       "    </tr>\n",
       "    <tr>\n",
       "      <th>1</th>\n",
       "      <td>1-2-3-complete-breakfast-smoothie</td>\n",
       "      <td>[oat, water, honey, blueberri, protein powd, y...</td>\n",
       "    </tr>\n",
       "    <tr>\n",
       "      <th>2</th>\n",
       "      <td>1-2-3-jambalaya</td>\n",
       "      <td>[worcestershire sauc, olive oil, parsley, toma...</td>\n",
       "    </tr>\n",
       "    <tr>\n",
       "      <th>3</th>\n",
       "      <td>1-dish-chicken-parmesan</td>\n",
       "      <td>[chees, olive oil, spice, chicken, all purpose...</td>\n",
       "    </tr>\n",
       "    <tr>\n",
       "      <th>4</th>\n",
       "      <td>1-dish-pepperoni-cheese-pizza-bake</td>\n",
       "      <td>[all purpose flour, cooking spray, mozzarella ...</td>\n",
       "    </tr>\n",
       "    <tr>\n",
       "      <th>...</th>\n",
       "      <td>...</td>\n",
       "      <td>...</td>\n",
       "    </tr>\n",
       "    <tr>\n",
       "      <th>66277</th>\n",
       "      <td>zweiback-cheesecake</td>\n",
       "      <td>[egg, white sugar, margarin, cinnamon, cottage...</td>\n",
       "    </tr>\n",
       "    <tr>\n",
       "      <th>66278</th>\n",
       "      <td>zwetschekuchen-german-plum-tart</td>\n",
       "      <td>[cinnamon, lemon peel, butter, egg, white suga...</td>\n",
       "    </tr>\n",
       "    <tr>\n",
       "      <th>66279</th>\n",
       "      <td>zwetschgendatschi-german-plum-sheet-cake</td>\n",
       "      <td>[white sugar, vanilla sugar, all purpose flour...</td>\n",
       "    </tr>\n",
       "    <tr>\n",
       "      <th>66280</th>\n",
       "      <td>zwieback</td>\n",
       "      <td>[dry yeast, honey, all purpose flour, butter, ...</td>\n",
       "    </tr>\n",
       "    <tr>\n",
       "      <th>66281</th>\n",
       "      <td>zydeco-stomp-cajun-shrimp-alfredo</td>\n",
       "      <td>[cajun season, black pepp, salt, butter, cream...</td>\n",
       "    </tr>\n",
       "  </tbody>\n",
       "</table>\n",
       "<p>66282 rows × 2 columns</p>\n",
       "</div>"
      ],
      "text/plain": [
       "                                         recipe  \\\n",
       "0                        1-2-3-cherry-poke-cake   \n",
       "1             1-2-3-complete-breakfast-smoothie   \n",
       "2                               1-2-3-jambalaya   \n",
       "3                       1-dish-chicken-parmesan   \n",
       "4            1-dish-pepperoni-cheese-pizza-bake   \n",
       "...                                         ...   \n",
       "66277                       zweiback-cheesecake   \n",
       "66278           zwetschekuchen-german-plum-tart   \n",
       "66279  zwetschgendatschi-german-plum-sheet-cake   \n",
       "66280                                  zwieback   \n",
       "66281         zydeco-stomp-cajun-shrimp-alfredo   \n",
       "\n",
       "                                              ingredient  \n",
       "0            [cake, water, whipped top, gelatin, chocol]  \n",
       "1      [oat, water, honey, blueberri, protein powd, y...  \n",
       "2      [worcestershire sauc, olive oil, parsley, toma...  \n",
       "3      [chees, olive oil, spice, chicken, all purpose...  \n",
       "4      [all purpose flour, cooking spray, mozzarella ...  \n",
       "...                                                  ...  \n",
       "66277  [egg, white sugar, margarin, cinnamon, cottage...  \n",
       "66278  [cinnamon, lemon peel, butter, egg, white suga...  \n",
       "66279  [white sugar, vanilla sugar, all purpose flour...  \n",
       "66280  [dry yeast, honey, all purpose flour, butter, ...  \n",
       "66281  [cajun season, black pepp, salt, butter, cream...  \n",
       "\n",
       "[66282 rows x 2 columns]"
      ]
     },
     "execution_count": 3,
     "metadata": {},
     "output_type": "execute_result"
    }
   ],
   "source": [
    "# aggreagate ingredients and put them into list for each recipe\n",
    "# new df --> recipeName | ingredientList\n",
    "df=pd.read_csv('recipes_v4.csv')  \n",
    "df=df.drop(columns=['Unnamed: 0', 'Unnamed: 1'])\n",
    "df2=df.groupby('Recipe')['Ingredient'].agg(list).reset_index(name='ingredient')\n",
    "df2.columns = ['recipe', 'ingredient']\n",
    "df2"
   ]
  },
  {
   "cell_type": "code",
   "execution_count": 4,
   "metadata": {},
   "outputs": [
    {
     "data": {
      "text/html": [
       "<div>\n",
       "<style scoped>\n",
       "    .dataframe tbody tr th:only-of-type {\n",
       "        vertical-align: middle;\n",
       "    }\n",
       "\n",
       "    .dataframe tbody tr th {\n",
       "        vertical-align: top;\n",
       "    }\n",
       "\n",
       "    .dataframe thead th {\n",
       "        text-align: right;\n",
       "    }\n",
       "</style>\n",
       "<table border=\"1\" class=\"dataframe\">\n",
       "  <thead>\n",
       "    <tr style=\"text-align: right;\">\n",
       "      <th></th>\n",
       "      <th>recipe</th>\n",
       "      <th>ingredient</th>\n",
       "      <th>USDAscore</th>\n",
       "      <th>FSAscore</th>\n",
       "    </tr>\n",
       "  </thead>\n",
       "  <tbody>\n",
       "    <tr>\n",
       "      <th>0</th>\n",
       "      <td>1-2-3-cherry-poke-cake</td>\n",
       "      <td>[cake, water, whipped top, gelatin, chocol]</td>\n",
       "      <td>2</td>\n",
       "      <td>4</td>\n",
       "    </tr>\n",
       "    <tr>\n",
       "      <th>1</th>\n",
       "      <td>1-2-3-complete-breakfast-smoothie</td>\n",
       "      <td>[oat, water, honey, blueberri, protein powd, y...</td>\n",
       "      <td>3</td>\n",
       "      <td>5</td>\n",
       "    </tr>\n",
       "    <tr>\n",
       "      <th>2</th>\n",
       "      <td>1-2-3-jambalaya</td>\n",
       "      <td>[worcestershire sauc, olive oil, parsley, toma...</td>\n",
       "      <td>4</td>\n",
       "      <td>3</td>\n",
       "    </tr>\n",
       "    <tr>\n",
       "      <th>3</th>\n",
       "      <td>1-dish-chicken-parmesan</td>\n",
       "      <td>[chees, olive oil, spice, chicken, all purpose...</td>\n",
       "      <td>4</td>\n",
       "      <td>3</td>\n",
       "    </tr>\n",
       "    <tr>\n",
       "      <th>4</th>\n",
       "      <td>1-dish-pepperoni-cheese-pizza-bake</td>\n",
       "      <td>[all purpose flour, cooking spray, mozzarella ...</td>\n",
       "      <td>4</td>\n",
       "      <td>4</td>\n",
       "    </tr>\n",
       "    <tr>\n",
       "      <th>...</th>\n",
       "      <td>...</td>\n",
       "      <td>...</td>\n",
       "      <td>...</td>\n",
       "      <td>...</td>\n",
       "    </tr>\n",
       "    <tr>\n",
       "      <th>66626</th>\n",
       "      <td>zweiback-cheesecake</td>\n",
       "      <td>[egg, white sugar, margarin, cinnamon, cottage...</td>\n",
       "      <td>2</td>\n",
       "      <td>2</td>\n",
       "    </tr>\n",
       "    <tr>\n",
       "      <th>66627</th>\n",
       "      <td>zwetschekuchen-german-plum-tart</td>\n",
       "      <td>[cinnamon, lemon peel, butter, egg, white suga...</td>\n",
       "      <td>1</td>\n",
       "      <td>2</td>\n",
       "    </tr>\n",
       "    <tr>\n",
       "      <th>66628</th>\n",
       "      <td>zwetschgendatschi-german-plum-sheet-cake</td>\n",
       "      <td>[white sugar, vanilla sugar, all purpose flour...</td>\n",
       "      <td>1</td>\n",
       "      <td>3</td>\n",
       "    </tr>\n",
       "    <tr>\n",
       "      <th>66629</th>\n",
       "      <td>zwieback</td>\n",
       "      <td>[dry yeast, honey, all purpose flour, butter, ...</td>\n",
       "      <td>5</td>\n",
       "      <td>8</td>\n",
       "    </tr>\n",
       "    <tr>\n",
       "      <th>66630</th>\n",
       "      <td>zydeco-stomp-cajun-shrimp-alfredo</td>\n",
       "      <td>[cajun season, black pepp, salt, butter, cream...</td>\n",
       "      <td>3</td>\n",
       "      <td>2</td>\n",
       "    </tr>\n",
       "  </tbody>\n",
       "</table>\n",
       "<p>66107 rows × 4 columns</p>\n",
       "</div>"
      ],
      "text/plain": [
       "                                         recipe  \\\n",
       "0                        1-2-3-cherry-poke-cake   \n",
       "1             1-2-3-complete-breakfast-smoothie   \n",
       "2                               1-2-3-jambalaya   \n",
       "3                       1-dish-chicken-parmesan   \n",
       "4            1-dish-pepperoni-cheese-pizza-bake   \n",
       "...                                         ...   \n",
       "66626                       zweiback-cheesecake   \n",
       "66627           zwetschekuchen-german-plum-tart   \n",
       "66628  zwetschgendatschi-german-plum-sheet-cake   \n",
       "66629                                  zwieback   \n",
       "66630         zydeco-stomp-cajun-shrimp-alfredo   \n",
       "\n",
       "                                              ingredient  USDAscore  FSAscore  \n",
       "0            [cake, water, whipped top, gelatin, chocol]          2         4  \n",
       "1      [oat, water, honey, blueberri, protein powd, y...          3         5  \n",
       "2      [worcestershire sauc, olive oil, parsley, toma...          4         3  \n",
       "3      [chees, olive oil, spice, chicken, all purpose...          4         3  \n",
       "4      [all purpose flour, cooking spray, mozzarella ...          4         4  \n",
       "...                                                  ...        ...       ...  \n",
       "66626  [egg, white sugar, margarin, cinnamon, cottage...          2         2  \n",
       "66627  [cinnamon, lemon peel, butter, egg, white suga...          1         2  \n",
       "66628  [white sugar, vanilla sugar, all purpose flour...          1         3  \n",
       "66629  [dry yeast, honey, all purpose flour, butter, ...          5         8  \n",
       "66630  [cajun season, black pepp, salt, butter, cream...          3         2  \n",
       "\n",
       "[66107 rows x 4 columns]"
      ]
     },
     "execution_count": 4,
     "metadata": {},
     "output_type": "execute_result"
    }
   ],
   "source": [
    "# get the recipe health scores from another csv file then merge with our df\n",
    "# new df --> recipeName | ingredientList | USDAScore | FSAScore\n",
    "df3=pd.read_csv('recipes-scores.csv')  \n",
    "df4=df2.merge(df3,how=\"left\",on='recipe')\n",
    "df4.drop_duplicates(subset=\"recipe\",\n",
    "                     keep=False, inplace=True)\n",
    "df4"
   ]
  },
  {
   "cell_type": "code",
   "execution_count": 5,
   "metadata": {},
   "outputs": [],
   "source": [
    "# create binary labels according to health score (USDA)\n",
    "# x > 4 healthy (1) , x <= 4 unhealthy (0)\n",
    "USDAlabel=list()\n",
    "for i in range(len(df4)):\n",
    "    if df4.iloc[i][2]>4:\n",
    "        USDAlabel.append(1)\n",
    "    else:\n",
    "        USDAlabel.append(0)"
   ]
  },
  {
   "cell_type": "code",
   "execution_count": 6,
   "metadata": {},
   "outputs": [],
   "source": [
    "# create binary labels according to health score (FSA)\n",
    "# x > 4 healthy (1) , x <= 4 unhealthy (0)\n",
    "FSAlabel=list()\n",
    "for i in range(len(df4)):\n",
    "    if df4.iloc[i][3]>4:\n",
    "        FSAlabel.append(1)\n",
    "    else:\n",
    "        FSAlabel.append(0)"
   ]
  },
  {
   "cell_type": "code",
   "execution_count": 7,
   "metadata": {},
   "outputs": [
    {
     "data": {
      "text/html": [
       "<div>\n",
       "<style scoped>\n",
       "    .dataframe tbody tr th:only-of-type {\n",
       "        vertical-align: middle;\n",
       "    }\n",
       "\n",
       "    .dataframe tbody tr th {\n",
       "        vertical-align: top;\n",
       "    }\n",
       "\n",
       "    .dataframe thead th {\n",
       "        text-align: right;\n",
       "    }\n",
       "</style>\n",
       "<table border=\"1\" class=\"dataframe\">\n",
       "  <thead>\n",
       "    <tr style=\"text-align: right;\">\n",
       "      <th></th>\n",
       "      <th>recipe</th>\n",
       "      <th>ingredient</th>\n",
       "      <th>USDAscore</th>\n",
       "      <th>FSAscore</th>\n",
       "      <th>USDAlabel</th>\n",
       "      <th>FSAlabel</th>\n",
       "    </tr>\n",
       "  </thead>\n",
       "  <tbody>\n",
       "    <tr>\n",
       "      <th>0</th>\n",
       "      <td>1-2-3-cherry-poke-cake</td>\n",
       "      <td>[cake, water, whipped top, gelatin, chocol]</td>\n",
       "      <td>2</td>\n",
       "      <td>4</td>\n",
       "      <td>0</td>\n",
       "      <td>0</td>\n",
       "    </tr>\n",
       "    <tr>\n",
       "      <th>1</th>\n",
       "      <td>1-2-3-complete-breakfast-smoothie</td>\n",
       "      <td>[oat, water, honey, blueberri, protein powd, y...</td>\n",
       "      <td>3</td>\n",
       "      <td>5</td>\n",
       "      <td>0</td>\n",
       "      <td>1</td>\n",
       "    </tr>\n",
       "    <tr>\n",
       "      <th>2</th>\n",
       "      <td>1-2-3-jambalaya</td>\n",
       "      <td>[worcestershire sauc, olive oil, parsley, toma...</td>\n",
       "      <td>4</td>\n",
       "      <td>3</td>\n",
       "      <td>0</td>\n",
       "      <td>0</td>\n",
       "    </tr>\n",
       "    <tr>\n",
       "      <th>3</th>\n",
       "      <td>1-dish-chicken-parmesan</td>\n",
       "      <td>[chees, olive oil, spice, chicken, all purpose...</td>\n",
       "      <td>4</td>\n",
       "      <td>3</td>\n",
       "      <td>0</td>\n",
       "      <td>0</td>\n",
       "    </tr>\n",
       "    <tr>\n",
       "      <th>4</th>\n",
       "      <td>1-dish-pepperoni-cheese-pizza-bake</td>\n",
       "      <td>[all purpose flour, cooking spray, mozzarella ...</td>\n",
       "      <td>4</td>\n",
       "      <td>4</td>\n",
       "      <td>0</td>\n",
       "      <td>0</td>\n",
       "    </tr>\n",
       "    <tr>\n",
       "      <th>...</th>\n",
       "      <td>...</td>\n",
       "      <td>...</td>\n",
       "      <td>...</td>\n",
       "      <td>...</td>\n",
       "      <td>...</td>\n",
       "      <td>...</td>\n",
       "    </tr>\n",
       "    <tr>\n",
       "      <th>66626</th>\n",
       "      <td>zweiback-cheesecake</td>\n",
       "      <td>[egg, white sugar, margarin, cinnamon, cottage...</td>\n",
       "      <td>2</td>\n",
       "      <td>2</td>\n",
       "      <td>0</td>\n",
       "      <td>0</td>\n",
       "    </tr>\n",
       "    <tr>\n",
       "      <th>66627</th>\n",
       "      <td>zwetschekuchen-german-plum-tart</td>\n",
       "      <td>[cinnamon, lemon peel, butter, egg, white suga...</td>\n",
       "      <td>1</td>\n",
       "      <td>2</td>\n",
       "      <td>0</td>\n",
       "      <td>0</td>\n",
       "    </tr>\n",
       "    <tr>\n",
       "      <th>66628</th>\n",
       "      <td>zwetschgendatschi-german-plum-sheet-cake</td>\n",
       "      <td>[white sugar, vanilla sugar, all purpose flour...</td>\n",
       "      <td>1</td>\n",
       "      <td>3</td>\n",
       "      <td>0</td>\n",
       "      <td>0</td>\n",
       "    </tr>\n",
       "    <tr>\n",
       "      <th>66629</th>\n",
       "      <td>zwieback</td>\n",
       "      <td>[dry yeast, honey, all purpose flour, butter, ...</td>\n",
       "      <td>5</td>\n",
       "      <td>8</td>\n",
       "      <td>1</td>\n",
       "      <td>1</td>\n",
       "    </tr>\n",
       "    <tr>\n",
       "      <th>66630</th>\n",
       "      <td>zydeco-stomp-cajun-shrimp-alfredo</td>\n",
       "      <td>[cajun season, black pepp, salt, butter, cream...</td>\n",
       "      <td>3</td>\n",
       "      <td>2</td>\n",
       "      <td>0</td>\n",
       "      <td>0</td>\n",
       "    </tr>\n",
       "  </tbody>\n",
       "</table>\n",
       "<p>66107 rows × 6 columns</p>\n",
       "</div>"
      ],
      "text/plain": [
       "                                         recipe  \\\n",
       "0                        1-2-3-cherry-poke-cake   \n",
       "1             1-2-3-complete-breakfast-smoothie   \n",
       "2                               1-2-3-jambalaya   \n",
       "3                       1-dish-chicken-parmesan   \n",
       "4            1-dish-pepperoni-cheese-pizza-bake   \n",
       "...                                         ...   \n",
       "66626                       zweiback-cheesecake   \n",
       "66627           zwetschekuchen-german-plum-tart   \n",
       "66628  zwetschgendatschi-german-plum-sheet-cake   \n",
       "66629                                  zwieback   \n",
       "66630         zydeco-stomp-cajun-shrimp-alfredo   \n",
       "\n",
       "                                              ingredient  USDAscore  FSAscore  \\\n",
       "0            [cake, water, whipped top, gelatin, chocol]          2         4   \n",
       "1      [oat, water, honey, blueberri, protein powd, y...          3         5   \n",
       "2      [worcestershire sauc, olive oil, parsley, toma...          4         3   \n",
       "3      [chees, olive oil, spice, chicken, all purpose...          4         3   \n",
       "4      [all purpose flour, cooking spray, mozzarella ...          4         4   \n",
       "...                                                  ...        ...       ...   \n",
       "66626  [egg, white sugar, margarin, cinnamon, cottage...          2         2   \n",
       "66627  [cinnamon, lemon peel, butter, egg, white suga...          1         2   \n",
       "66628  [white sugar, vanilla sugar, all purpose flour...          1         3   \n",
       "66629  [dry yeast, honey, all purpose flour, butter, ...          5         8   \n",
       "66630  [cajun season, black pepp, salt, butter, cream...          3         2   \n",
       "\n",
       "       USDAlabel  FSAlabel  \n",
       "0              0         0  \n",
       "1              0         1  \n",
       "2              0         0  \n",
       "3              0         0  \n",
       "4              0         0  \n",
       "...          ...       ...  \n",
       "66626          0         0  \n",
       "66627          0         0  \n",
       "66628          0         0  \n",
       "66629          1         1  \n",
       "66630          0         0  \n",
       "\n",
       "[66107 rows x 6 columns]"
      ]
     },
     "execution_count": 7,
     "metadata": {},
     "output_type": "execute_result"
    }
   ],
   "source": [
    "# Add them to our df \n",
    "df4['USDAlabel'] = USDAlabel\n",
    "df4['FSAlabel'] = FSAlabel\n",
    "df4"
   ]
  },
  {
   "cell_type": "code",
   "execution_count": 8,
   "metadata": {},
   "outputs": [],
   "source": [
    "#creating a matrix recipes x ingredients (66107 recipes, 962 ingredietnts)\n",
    "#It means 1 x 963 vector for each recipe\n",
    "mat=np.zeros((66107,963))"
   ]
  },
  {
   "cell_type": "code",
   "execution_count": 9,
   "metadata": {},
   "outputs": [],
   "source": [
    "ingp=ing['Ingredient'].to_numpy()"
   ]
  },
  {
   "cell_type": "code",
   "execution_count": 10,
   "metadata": {},
   "outputs": [
    {
     "data": {
      "text/plain": [
       "(963,)"
      ]
     },
     "execution_count": 10,
     "metadata": {},
     "output_type": "execute_result"
    }
   ],
   "source": [
    "ingp.shape"
   ]
  },
  {
   "cell_type": "code",
   "execution_count": 11,
   "metadata": {},
   "outputs": [],
   "source": [
    "df5=df4.drop('USDAscore',axis=1)\n",
    "df5=df4.drop('FSAscore',axis=1)\n",
    "df5=df4.drop('USDAlabel',axis=1)\n",
    "df5=df4.drop('FSAlabel',axis=1)\n",
    "data=df5.to_numpy()"
   ]
  },
  {
   "cell_type": "code",
   "execution_count": 12,
   "metadata": {},
   "outputs": [],
   "source": [
    "# searching ingredients in recipes. \n",
    "#In our matrix, if a recipe contains a word, corresponding index of the ingredient will be 1 for that recipe.\n",
    "for i in range(962):\n",
    "    for w in range(66106):\n",
    "        if ingp[i] in data[w][1]:\n",
    "            mat[w][i]=1\n"
   ]
  },
  {
   "cell_type": "code",
   "execution_count": 13,
   "metadata": {},
   "outputs": [],
   "source": [
    "#FSA column will be first class label vector.\n",
    "clss1=df4['FSAlabel'].to_numpy()\n",
    "clss2=df4['USDAlabel'].to_numpy()"
   ]
  },
  {
   "cell_type": "code",
   "execution_count": 14,
   "metadata": {},
   "outputs": [
    {
     "name": "stdout",
     "output_type": "stream",
     "text": [
      "66107 25610\n"
     ]
    }
   ],
   "source": [
    "#checking out how many \"1\" we have in our class\n",
    "len(clss1)\n",
    "count=0\n",
    "for i in range(66107):\n",
    "    if clss1[i]==1:\n",
    "        count +=1\n",
    "\n",
    "print(len(clss1),count)"
   ]
  },
  {
   "cell_type": "code",
   "execution_count": 17,
   "metadata": {},
   "outputs": [
    {
     "name": "stdout",
     "output_type": "stream",
     "text": [
      "  (0, 6)\t1.0\n",
      "  (0, 87)\t1.0\n",
      "  (0, 115)\t1.0\n",
      "  (0, 153)\t1.0\n",
      "  (0, 203)\t1.0\n",
      "  (1, 6)\t1.0\n",
      "  (1, 38)\t1.0\n",
      "  (1, 59)\t1.0\n",
      "  (1, 80)\t1.0\n",
      "  (1, 106)\t1.0\n",
      "  (1, 478)\t1.0\n",
      "  (2, 8)\t1.0\n",
      "  (2, 12)\t1.0\n",
      "  (2, 15)\t1.0\n",
      "  (2, 21)\t1.0\n",
      "  (2, 55)\t1.0\n",
      "  (2, 105)\t1.0\n",
      "  (2, 147)\t1.0\n",
      "  (3, 0)\t1.0\n",
      "  (3, 7)\t1.0\n",
      "  (3, 8)\t1.0\n",
      "  (3, 31)\t1.0\n",
      "  (3, 49)\t1.0\n",
      "  (3, 51)\t1.0\n",
      "  (3, 61)\t1.0\n",
      "  :\t:\n",
      "  (66102, 86)\t1.0\n",
      "  (66102, 192)\t1.0\n",
      "  (66103, 2)\t1.0\n",
      "  (66103, 4)\t1.0\n",
      "  (66103, 5)\t1.0\n",
      "  (66103, 6)\t1.0\n",
      "  (66103, 7)\t1.0\n",
      "  (66103, 16)\t1.0\n",
      "  (66103, 472)\t1.0\n",
      "  (66104, 0)\t1.0\n",
      "  (66104, 2)\t1.0\n",
      "  (66104, 5)\t1.0\n",
      "  (66104, 7)\t1.0\n",
      "  (66104, 16)\t1.0\n",
      "  (66104, 18)\t1.0\n",
      "  (66104, 43)\t1.0\n",
      "  (66104, 72)\t1.0\n",
      "  (66104, 515)\t1.0\n",
      "  (66105, 0)\t1.0\n",
      "  (66105, 4)\t1.0\n",
      "  (66105, 6)\t1.0\n",
      "  (66105, 7)\t1.0\n",
      "  (66105, 10)\t1.0\n",
      "  (66105, 38)\t1.0\n",
      "  (66105, 103)\t1.0\n"
     ]
    }
   ],
   "source": [
    "#I'll try to convert our data to CSR dense matrix and feed it to ML methods\n",
    "from scipy.sparse import csr_matrix\n",
    "x=csr_matrix(mat)\n",
    "print(x)"
   ]
  },
  {
   "cell_type": "code",
   "execution_count": 27,
   "metadata": {},
   "outputs": [],
   "source": [
    "#Converted CSR matrix will be fed to ML methods for clss1 which is FSA Binary Labeling\n",
    "#same methods are also applied for clss2 which is USDA Binary Labeling\n",
    "xtraincsr,xtestcsr,ytraincsr,ytestcsr=train_test_split(x,clss1,test_size=0.3, random_state=15)"
   ]
  },
  {
   "cell_type": "code",
   "execution_count": 28,
   "metadata": {},
   "outputs": [],
   "source": [
    "def modelfitcsr(mod):\n",
    "    model=mod\n",
    "    model.fit(xtraincsr,ytraincsr)\n",
    "    ypredcsr=model.predict(xtestcsr)\n",
    "    print(accuracy_score(ytestcsr,ypredcsr))\n"
   ]
  },
  {
   "cell_type": "code",
   "execution_count": 29,
   "metadata": {},
   "outputs": [
    {
     "name": "stdout",
     "output_type": "stream",
     "text": [
      "0.7353905107648868\n",
      "0.700875997543335 seconds\n"
     ]
    }
   ],
   "source": [
    "st=time.time()\n",
    "modelfitcsr(LogisticRegression(max_iter=1000))\n",
    "et=time.time()\n",
    "print(et-st,\"seconds\")"
   ]
  },
  {
   "cell_type": "code",
   "execution_count": 30,
   "metadata": {},
   "outputs": [
    {
     "name": "stdout",
     "output_type": "stream",
     "text": [
      "0.7296929360157314\n",
      "50.54760813713074 seconds\n"
     ]
    }
   ],
   "source": [
    "st=time.time()\n",
    "modelfitcsr(RandomForestClassifier())\n",
    "et=time.time()\n",
    "print(et-st,\"seconds\")"
   ]
  },
  {
   "cell_type": "code",
   "execution_count": 31,
   "metadata": {},
   "outputs": [
    {
     "name": "stdout",
     "output_type": "stream",
     "text": [
      "0.6998436948520144\n",
      "3.7572290897369385 seconds\n"
     ]
    }
   ],
   "source": [
    "st=time.time()\n",
    "modelfitcsr(GradientBoostingClassifier())\n",
    "et=time.time()\n",
    "print(et-st,\"seconds\")"
   ]
  },
  {
   "cell_type": "code",
   "execution_count": 32,
   "metadata": {},
   "outputs": [
    {
     "name": "stdout",
     "output_type": "stream",
     "text": [
      "0.6507336257752231\n",
      "25.518248081207275 seconds\n"
     ]
    }
   ],
   "source": [
    "st=time.time()\n",
    "modelfit(tree.DecisionTreeClassifier())\n",
    "et=time.time()\n",
    "print(et-st,\"seconds\")"
   ]
  },
  {
   "cell_type": "code",
   "execution_count": 33,
   "metadata": {},
   "outputs": [
    {
     "name": "stdout",
     "output_type": "stream",
     "text": [
      "0.7129027378611406\n",
      "60.5793240070343 seconds\n"
     ]
    }
   ],
   "source": [
    "st=time.time()\n",
    "modelfitcsr(MLPClassifier(alpha=1e-5,hidden_layer_sizes=(5, 2),max_iter=1000))\n",
    "et=time.time()\n",
    "print(et-st,\"seconds\")"
   ]
  }
 ],
 "metadata": {
  "kernelspec": {
   "display_name": "Python 3",
   "language": "python",
   "name": "python3"
  },
  "language_info": {
   "codemirror_mode": {
    "name": "ipython",
    "version": 3
   },
   "file_extension": ".py",
   "mimetype": "text/x-python",
   "name": "python",
   "nbconvert_exporter": "python",
   "pygments_lexer": "ipython3",
   "version": "3.7.6"
  }
 },
 "nbformat": 4,
 "nbformat_minor": 4
}
