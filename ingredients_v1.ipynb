{
 "cells": [
  {
   "cell_type": "markdown",
   "metadata": {},
   "source": [
    "#### This code will take the recipes.csv file as input and find out the ingredients usage amount in descending order.\n",
    "### It'll output the result as ingredients_v1.csvfile"
   ]
  },
  {
   "cell_type": "code",
   "execution_count": 198,
   "metadata": {},
   "outputs": [],
   "source": [
    "import numpy as np\n",
    "import pandas as pd"
   ]
  },
  {
   "cell_type": "code",
   "execution_count": 199,
   "metadata": {},
   "outputs": [],
   "source": [
    "df=pd.read_csv('/Users/osman/Desktop/22-23 ualbany/ML/project/data/recipes.csv')  \n",
    "df=df.groupby('recipe')['ingredient'].agg(list).reset_index(name='ingredient')"
   ]
  },
  {
   "cell_type": "code",
   "execution_count": 200,
   "metadata": {},
   "outputs": [
    {
     "data": {
      "text/html": [
       "<div>\n",
       "<style scoped>\n",
       "    .dataframe tbody tr th:only-of-type {\n",
       "        vertical-align: middle;\n",
       "    }\n",
       "\n",
       "    .dataframe tbody tr th {\n",
       "        vertical-align: top;\n",
       "    }\n",
       "\n",
       "    .dataframe thead th {\n",
       "        text-align: right;\n",
       "    }\n",
       "</style>\n",
       "<table border=\"1\" class=\"dataframe\">\n",
       "  <thead>\n",
       "    <tr style=\"text-align: right;\">\n",
       "      <th></th>\n",
       "      <th>recipe</th>\n",
       "      <th>ingredient</th>\n",
       "    </tr>\n",
       "  </thead>\n",
       "  <tbody>\n",
       "    <tr>\n",
       "      <th>0</th>\n",
       "      <td>1-2-3-cherry-poke-cake</td>\n",
       "      <td>cake</td>\n",
       "    </tr>\n",
       "    <tr>\n",
       "      <th>0</th>\n",
       "      <td>1-2-3-cherry-poke-cake</td>\n",
       "      <td>water</td>\n",
       "    </tr>\n",
       "    <tr>\n",
       "      <th>0</th>\n",
       "      <td>1-2-3-cherry-poke-cake</td>\n",
       "      <td>Whipped Topping</td>\n",
       "    </tr>\n",
       "    <tr>\n",
       "      <th>0</th>\n",
       "      <td>1-2-3-cherry-poke-cake</td>\n",
       "      <td>Gelatin</td>\n",
       "    </tr>\n",
       "    <tr>\n",
       "      <th>0</th>\n",
       "      <td>1-2-3-cherry-poke-cake</td>\n",
       "      <td>Chocolate</td>\n",
       "    </tr>\n",
       "    <tr>\n",
       "      <th>...</th>\n",
       "      <td>...</td>\n",
       "      <td>...</td>\n",
       "    </tr>\n",
       "    <tr>\n",
       "      <th>77038</th>\n",
       "      <td>zydeco-stomp-cajun-shrimp-alfredo</td>\n",
       "      <td>Parmesan cheese</td>\n",
       "    </tr>\n",
       "    <tr>\n",
       "      <th>77038</th>\n",
       "      <td>zydeco-stomp-cajun-shrimp-alfredo</td>\n",
       "      <td>shrimp</td>\n",
       "    </tr>\n",
       "    <tr>\n",
       "      <th>77038</th>\n",
       "      <td>zydeco-stomp-cajun-shrimp-alfredo</td>\n",
       "      <td>garlic</td>\n",
       "    </tr>\n",
       "    <tr>\n",
       "      <th>77038</th>\n",
       "      <td>zydeco-stomp-cajun-shrimp-alfredo</td>\n",
       "      <td>parsley</td>\n",
       "    </tr>\n",
       "    <tr>\n",
       "      <th>77038</th>\n",
       "      <td>zydeco-stomp-cajun-shrimp-alfredo</td>\n",
       "      <td>fettuccine pasta</td>\n",
       "    </tr>\n",
       "  </tbody>\n",
       "</table>\n",
       "<p>655913 rows × 2 columns</p>\n",
       "</div>"
      ],
      "text/plain": [
       "                                  recipe        ingredient\n",
       "0                 1-2-3-cherry-poke-cake              cake\n",
       "0                 1-2-3-cherry-poke-cake             water\n",
       "0                 1-2-3-cherry-poke-cake   Whipped Topping\n",
       "0                 1-2-3-cherry-poke-cake           Gelatin\n",
       "0                 1-2-3-cherry-poke-cake         Chocolate\n",
       "...                                  ...               ...\n",
       "77038  zydeco-stomp-cajun-shrimp-alfredo   Parmesan cheese\n",
       "77038  zydeco-stomp-cajun-shrimp-alfredo            shrimp\n",
       "77038  zydeco-stomp-cajun-shrimp-alfredo            garlic\n",
       "77038  zydeco-stomp-cajun-shrimp-alfredo           parsley\n",
       "77038  zydeco-stomp-cajun-shrimp-alfredo  fettuccine pasta\n",
       "\n",
       "[655913 rows x 2 columns]"
      ]
     },
     "execution_count": 200,
     "metadata": {},
     "output_type": "execute_result"
    }
   ],
   "source": [
    "#ing = all ingredients used in recipes one by one. Ingredients are not unique in this variable. As you can see we have 655913 rows\n",
    "ing=df.explode('ingredient')\n",
    "ing        \n"
   ]
  },
  {
   "cell_type": "code",
   "execution_count": 148,
   "metadata": {},
   "outputs": [
    {
     "data": {
      "text/plain": [
       "6842"
      ]
     },
     "execution_count": 148,
     "metadata": {},
     "output_type": "execute_result"
    }
   ],
   "source": [
    "ing['ingredient'].nunique() #we have 6842 unique ingredient(string)"
   ]
  },
  {
   "cell_type": "code",
   "execution_count": 158,
   "metadata": {},
   "outputs": [
    {
     "data": {
      "text/plain": [
       "6842"
      ]
     },
     "execution_count": 158,
     "metadata": {},
     "output_type": "execute_result"
    }
   ],
   "source": [
    "#we will have two list with alligned indexes. \n",
    "#the list called 'unique' will have unique ingredients names.\n",
    "#the list called 'num' will have the number of the corresponding ingredients used in the recipes.\n",
    "#this part of code will take around 2 mins to compile\n",
    "\n",
    "unique=[] \n",
    "num=[0]*6842   #the number of unique ingredient. Initial amount will be zero for all of them\n",
    "\n",
    "for i in range(655913): #\n",
    "    if ing.iloc[i][1] in unique:\n",
    "        num[unique.index(ing.iloc[i][1])] +=1\n",
    "    else:\n",
    "        unique.append(ing.iloc[i][1])\n",
    "        num[unique.index(ing.iloc[i][1])] +=1\n",
    "        \n",
    "\n",
    "len(unique)\n"
   ]
  },
  {
   "cell_type": "code",
   "execution_count": 197,
   "metadata": {},
   "outputs": [
    {
     "data": {
      "text/html": [
       "<div>\n",
       "<style scoped>\n",
       "    .dataframe tbody tr th:only-of-type {\n",
       "        vertical-align: middle;\n",
       "    }\n",
       "\n",
       "    .dataframe tbody tr th {\n",
       "        vertical-align: top;\n",
       "    }\n",
       "\n",
       "    .dataframe thead th {\n",
       "        text-align: right;\n",
       "    }\n",
       "</style>\n",
       "<table border=\"1\" class=\"dataframe\">\n",
       "  <thead>\n",
       "    <tr style=\"text-align: right;\">\n",
       "      <th></th>\n",
       "      <th>Ingredient</th>\n",
       "      <th>Number of Usage</th>\n",
       "    </tr>\n",
       "  </thead>\n",
       "  <tbody>\n",
       "    <tr>\n",
       "      <th>0</th>\n",
       "      <td>salt</td>\n",
       "      <td>31117</td>\n",
       "    </tr>\n",
       "    <tr>\n",
       "      <th>1</th>\n",
       "      <td>onion</td>\n",
       "      <td>23295</td>\n",
       "    </tr>\n",
       "    <tr>\n",
       "      <th>2</th>\n",
       "      <td>egg</td>\n",
       "      <td>21585</td>\n",
       "    </tr>\n",
       "    <tr>\n",
       "      <th>3</th>\n",
       "      <td>garlic</td>\n",
       "      <td>21343</td>\n",
       "    </tr>\n",
       "    <tr>\n",
       "      <th>4</th>\n",
       "      <td>butter</td>\n",
       "      <td>20551</td>\n",
       "    </tr>\n",
       "    <tr>\n",
       "      <th>...</th>\n",
       "      <td>...</td>\n",
       "      <td>...</td>\n",
       "    </tr>\n",
       "    <tr>\n",
       "      <th>6837</th>\n",
       "      <td>gianduja chocolate</td>\n",
       "      <td>1</td>\n",
       "    </tr>\n",
       "    <tr>\n",
       "      <th>6838</th>\n",
       "      <td>decorating sugar</td>\n",
       "      <td>1</td>\n",
       "    </tr>\n",
       "    <tr>\n",
       "      <th>6839</th>\n",
       "      <td>plantain bananas</td>\n",
       "      <td>1</td>\n",
       "    </tr>\n",
       "    <tr>\n",
       "      <th>6840</th>\n",
       "      <td>ginger rounds</td>\n",
       "      <td>1</td>\n",
       "    </tr>\n",
       "    <tr>\n",
       "      <th>6841</th>\n",
       "      <td>Mexican 4</td>\n",
       "      <td>1</td>\n",
       "    </tr>\n",
       "  </tbody>\n",
       "</table>\n",
       "<p>6842 rows × 2 columns</p>\n",
       "</div>"
      ],
      "text/plain": [
       "              Ingredient  Number of Usage\n",
       "0                   salt            31117\n",
       "1                  onion            23295\n",
       "2                    egg            21585\n",
       "3                 garlic            21343\n",
       "4                 butter            20551\n",
       "...                  ...              ...\n",
       "6837  gianduja chocolate                1\n",
       "6838    decorating sugar                1\n",
       "6839    plantain bananas                1\n",
       "6840       ginger rounds                1\n",
       "6841           Mexican 4                1\n",
       "\n",
       "[6842 rows x 2 columns]"
      ]
     },
     "execution_count": 197,
     "metadata": {},
     "output_type": "execute_result"
    }
   ],
   "source": [
    "#Now we create a dataframe called dfzip and sort all the ingredients in descending order\n",
    "dfzip=pd.DataFrame(list(zip(unique,num)),columns=['Ingredient','Number of Usage'])\n",
    "dfzip=dfzip.sort_values('Number of Usage', ascending=False).reset_index(drop=True)\n",
    "dfzip\n"
   ]
  },
  {
   "cell_type": "code",
   "execution_count": 201,
   "metadata": {},
   "outputs": [],
   "source": [
    "dfzip.to_csv('ingredients_v1.csv',index=True)"
   ]
  },
  {
   "cell_type": "code",
   "execution_count": null,
   "metadata": {},
   "outputs": [],
   "source": []
  }
 ],
 "metadata": {
  "kernelspec": {
   "display_name": "Python 3",
   "language": "python",
   "name": "python3"
  },
  "language_info": {
   "codemirror_mode": {
    "name": "ipython",
    "version": 3
   },
   "file_extension": ".py",
   "mimetype": "text/x-python",
   "name": "python",
   "nbconvert_exporter": "python",
   "pygments_lexer": "ipython3",
   "version": "3.7.6"
  }
 },
 "nbformat": 4,
 "nbformat_minor": 4
}
